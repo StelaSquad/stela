{
 "cells": [
  {
   "cell_type": "markdown",
   "metadata": {},
   "source": [
    "# Quick Example Notebook of New STELA Module\n",
    "\n",
    "In this notebook I just want to go over a few examples of how to use the `stela` module"
   ]
  },
  {
   "cell_type": "code",
   "execution_count": 1,
   "metadata": {
    "collapsed": true
   },
   "outputs": [],
   "source": [
    "import stela"
   ]
  },
  {
   "cell_type": "code",
   "execution_count": 2,
   "metadata": {
    "collapsed": true
   },
   "outputs": [],
   "source": [
    "st = stela.STELA()"
   ]
  },
  {
   "cell_type": "code",
   "execution_count": 3,
   "metadata": {},
   "outputs": [
    {
     "name": "stdout",
     "output_type": "stream",
     "text": [
      "Testing internet connection...\n",
      "Connection succeeded!\n",
      "\n",
      "GJ catalog file found.\n",
      "New Galactic Catalog catalog file found.\n",
      "Messier catalog file found.\n",
      "Henry Draper catalog file found.\n",
      "Done. \n",
      "\n"
     ]
    }
   ],
   "source": [
    "# Set up catalogs\n",
    "st.setup_cats()"
   ]
  },
  {
   "cell_type": "code",
   "execution_count": 4,
   "metadata": {
    "scrolled": true
   },
   "outputs": [
    {
     "name": "stdout",
     "output_type": "stream",
     "text": [
      "Searching for: \"Andromeda\"\n",
      "\n",
      "Name: NAME Andromeda Nebula, M 31, NGC 224, 0.0\n",
      "Otype: Galaxy\n",
      "ra: 00 42 44.330 hrs\n",
      "dec: +41 16 07.50 deg\n",
      "Mag: 3.440\n",
      "Distance: 731.00 kpc\n",
      "Sptype: 0.0\n",
      "\n"
     ]
    }
   ],
   "source": [
    "# Search for something...\n",
    "print st.search(\"Andromeda\")[\"String\"]"
   ]
  },
  {
   "cell_type": "code",
   "execution_count": 5,
   "metadata": {},
   "outputs": [
    {
     "name": "stdout",
     "output_type": "stream",
     "text": [
      "[156.02351508  78.35076751]\n",
      "[177.5298611   57.40221874]\n",
      "[221.29466508  48.79043818]\n"
     ]
    }
   ],
   "source": [
    "# Triangulation\n",
    "st.location = [-114,30]\n",
    "v = st.get_ref_stars()\n",
    "for c in v:\n",
    "    print c"
   ]
  },
  {
   "cell_type": "code",
   "execution_count": 6,
   "metadata": {},
   "outputs": [
    {
     "name": "stdout",
     "output_type": "stream",
     "text": [
      "Attempting triangulation...\n",
      "Running for lims: [[0, 360], [-90, 90]]\n",
      "Running for lims: [[210.90909, 203.63636], [35.45455, 28.18182]]\n",
      "Running for lims: [[208.85216, 208.99908], [29.9449, 29.87144]]\n",
      "Running for lims: [[208.93527, 208.92785], [29.92116, 29.91448]]\n",
      "Running for lims: [[208.93137, 208.93137], [29.91805, 29.918]]\n",
      "Done.\n"
     ]
    }
   ],
   "source": [
    "st.triangulate( v[1]-v[0], v[2]-v[1])"
   ]
  },
  {
   "cell_type": "code",
   "execution_count": 7,
   "metadata": {},
   "outputs": [
    {
     "name": "stdout",
     "output_type": "stream",
     "text": [
      "[-114.06697065067391, 30.000065614894012]\n"
     ]
    }
   ],
   "source": [
    "# This had better be the same as the location we gave it!\n",
    "print st.home_coors"
   ]
  }
 ],
 "metadata": {
  "kernelspec": {
   "display_name": "Python 2",
   "language": "python",
   "name": "python2"
  },
  "language_info": {
   "codemirror_mode": {
    "name": "ipython",
    "version": 2
   },
   "file_extension": ".py",
   "mimetype": "text/x-python",
   "name": "python",
   "nbconvert_exporter": "python",
   "pygments_lexer": "ipython2",
   "version": "2.7.12"
  }
 },
 "nbformat": 4,
 "nbformat_minor": 2
}
